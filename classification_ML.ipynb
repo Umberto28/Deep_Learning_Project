{
  "nbformat": 4,
  "nbformat_minor": 0,
  "metadata": {
    "colab": {
      "provenance": [],
      "mount_file_id": "1yRRCG7sQhQO4MTeTxjwLG5m1YBPgWCFY",
      "authorship_tag": "ABX9TyMLJzm+x2Exlfs4MAKLq3Ry"
    },
    "kernelspec": {
      "name": "python3",
      "display_name": "Python 3"
    },
    "language_info": {
      "name": "python"
    }
  },
  "cells": [
    {
      "cell_type": "code",
      "execution_count": 33,
      "metadata": {
        "id": "hkqo_F1aLCbo"
      },
      "outputs": [],
      "source": [
        "import pandas as pd\n",
        "from sklearn.naive_bayes import GaussianNB\n",
        "from sklearn.metrics import accuracy_score, classification_report\n",
        "from sklearn.model_selection import train_test_split\n",
        "from sklearn.neighbors import KNeighborsClassifier\n",
        "from sklearn.preprocessing import StandardScaler"
      ]
    },
    {
      "cell_type": "code",
      "source": [
        "df = pd.DataFrame()\n",
        "\n",
        "# Create features and labels Dataframes from Xception features\n",
        "df = pd.read_csv('/content/drive/MyDrive/progetto_deep/xceptionFeatures.csv')\n",
        "df.drop([\"Unnamed: 0\"], axis=1, inplace=True)\n",
        "labels_XC = df[\"diag\"]\n",
        "df.drop([\"diag\"], axis=1, inplace=True)\n",
        "features_XC = df.copy()\n",
        "\n",
        "# Create features and labels Dataframes from EfficientNet features\n",
        "df = pd.read_csv('/content/drive/MyDrive/progetto_deep/EfficientNetB4Features.csv')\n",
        "df.drop([\"Unnamed: 0\"], axis=1, inplace=True)\n",
        "labels_EN = df[\"diag\"]\n",
        "df.drop([\"diag\"], axis=1, inplace=True)\n",
        "features_EN = df.copy()"
      ],
      "metadata": {
        "id": "X48LNkMlNQ8f"
      },
      "execution_count": 34,
      "outputs": []
    },
    {
      "cell_type": "code",
      "source": [
        "def naiveBayes(features, labels):\n",
        "    features_train, features_test, labels_train, labels_test = train_test_split(features, labels, test_size=0.20, random_state=42)\n",
        "\n",
        "    # Inizializza il classificatore e addestralo\n",
        "    clf = GaussianNB()\n",
        "    clf.fit(features_train, labels_train)\n",
        "\n",
        "    # Esegui le predizioni sul set di test\n",
        "    predictions = clf.predict(features_test)\n",
        "\n",
        "    # Valuta le prestazioni del classificatore\n",
        "    accuracy = accuracy_score(labels_test, predictions)\n",
        "    print(f'Accuracy: {accuracy}')\n",
        "    print(classification_report(labels_test, predictions))\n",
        "\n",
        "naiveBayes(features_XC, labels_XC)\n",
        "naiveBayes(features_EN, labels_EN)"
      ],
      "metadata": {
        "colab": {
          "base_uri": "https://localhost:8080/"
        },
        "id": "gq6oGKcILLRP",
        "outputId": "e243a4a4-e22d-416d-c1f2-3e66511d6c11"
      },
      "execution_count": 36,
      "outputs": [
        {
          "output_type": "stream",
          "name": "stdout",
          "text": [
            "Accuracy: 0.7916666666666666\n",
            "              precision    recall  f1-score   support\n",
            "\n",
            "           0       0.77      0.83      0.80        12\n",
            "           1       0.82      0.75      0.78        12\n",
            "\n",
            "    accuracy                           0.79        24\n",
            "   macro avg       0.79      0.79      0.79        24\n",
            "weighted avg       0.79      0.79      0.79        24\n",
            "\n",
            "Accuracy: 0.7083333333333334\n",
            "              precision    recall  f1-score   support\n",
            "\n",
            "           0       0.67      0.83      0.74        12\n",
            "           1       0.78      0.58      0.67        12\n",
            "\n",
            "    accuracy                           0.71        24\n",
            "   macro avg       0.72      0.71      0.70        24\n",
            "weighted avg       0.72      0.71      0.70        24\n",
            "\n"
          ]
        }
      ]
    },
    {
      "cell_type": "code",
      "source": [
        "def knn(features, labels, k):\n",
        "    features_train, features_test, labels_train, labels_test = train_test_split(features, labels, test_size=0.20, random_state=42)\n",
        "\n",
        "    # Standardizza le features (è importante standardizzare le features per KNN)\n",
        "    scaler = StandardScaler()\n",
        "    features_train = scaler.fit_transform(features_train)\n",
        "    features_test = scaler.transform(features_test)\n",
        "\n",
        "    # Inizializza il classificatore KNN e addestralo\n",
        "    clf = KNeighborsClassifier(n_neighbors=k)\n",
        "    clf.fit(features_train, labels_train)\n",
        "\n",
        "    # Esegui le predizioni sul set di test\n",
        "    predictions = clf.predict(features_test)\n",
        "\n",
        "    # Valuta le prestazioni del classificatore\n",
        "    accuracy = accuracy_score(labels_test, predictions)\n",
        "    print(f'Accuracy: {accuracy}')\n",
        "    print(classification_report(labels_test, predictions))\n",
        "\n",
        "knn(features_XC, labels_XC, 5)\n",
        "knn(features_EN, labels_EN, 5)"
      ],
      "metadata": {
        "colab": {
          "base_uri": "https://localhost:8080/"
        },
        "id": "hu58kMLPXJS3",
        "outputId": "308514ae-f963-46bc-9594-7002e092dbda"
      },
      "execution_count": 46,
      "outputs": [
        {
          "output_type": "stream",
          "name": "stdout",
          "text": [
            "Accuracy: 0.6666666666666666\n",
            "              precision    recall  f1-score   support\n",
            "\n",
            "           0       0.60      1.00      0.75        12\n",
            "           1       1.00      0.33      0.50        12\n",
            "\n",
            "    accuracy                           0.67        24\n",
            "   macro avg       0.80      0.67      0.62        24\n",
            "weighted avg       0.80      0.67      0.62        24\n",
            "\n",
            "Accuracy: 0.75\n",
            "              precision    recall  f1-score   support\n",
            "\n",
            "           0       0.67      1.00      0.80        12\n",
            "           1       1.00      0.50      0.67        12\n",
            "\n",
            "    accuracy                           0.75        24\n",
            "   macro avg       0.83      0.75      0.73        24\n",
            "weighted avg       0.83      0.75      0.73        24\n",
            "\n"
          ]
        }
      ]
    }
  ]
}