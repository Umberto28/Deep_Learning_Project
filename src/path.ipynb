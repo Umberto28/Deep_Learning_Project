{
 "cells": [
  {
   "cell_type": "markdown",
   "metadata": {},
   "source": [
    "# **Percorsi e Parametri**\n",
    "Qui vengono definiti i percorsi principali utilizzati per lo sviluppo dell'architetture (dataset, checkpoints, ecc.) e i parametri utilizzati per il training (batch, epochs, ecc.)."
   ]
  },
  {
   "cell_type": "code",
   "execution_count": 1,
   "metadata": {},
   "outputs": [],
   "source": [
    "from math import inf\n",
    "\n",
    "\"\"\"\n",
    "Before training and evaluation - make sure to select desired/correct settings\n",
    "\"\"\"\n",
    "\n",
    "BASE = '..'\n",
    "\n",
    "# ML\n",
    "DEVICE = 'cpu'\n",
    "CHECKPOINTS = 'checkpoints'\n",
    "\n",
    "# IAM dataset\n",
    "IAM = BASE + '/IAM'\n",
    "\n",
    "# Dysgraphia dataset\n",
    "DATA = BASE + '/dys_dataset'\n",
    "DYSG = DATA + '/NoAugmentation'\n",
    "ADYSG = DATA + '/Augmentation'\n",
    "SPLIT = DATA + '/splits'\n",
    "\n",
    "# Input dataset related settings\n",
    "INPUT_HEIGHT = 80\n",
    "INPUT_WIDTH = 2000\n",
    "INPUT_SHAPE = (INPUT_WIDTH, INPUT_HEIGHT)\n",
    "\n",
    "TACO_AUGMENTAION_FRACTION = 0.9\n",
    "\n",
    "# If Long lines augmentation is needed (see paper)\n",
    "LONG_LINES = False\n",
    "LONG_LINES_FRACTION = 0.3\n",
    "\n",
    "# TRAIN SETTINGS\n",
    "EPOCHS = 150\n",
    "START_EPOCH = 0\n",
    "BATCH_SIZE = 32\n",
    "BEST_VAL_LOSS = inf\n",
    "EXIT_COUNTER = 0\n",
    "LR = 0.0001\n",
    "VOCAB_SIZE = 80\n",
    "DROPOUT = True\n",
    "OUTPUT_SHAPE = 500\n",
    "\n",
    "# Other learning parametes\n",
    "LEARNING_RATE = 0.01\n",
    "BATCH_NORM_EPSILON = 1e-5\n",
    "BATCH_NORM_DECAY = 0.997"
   ]
  }
 ],
 "metadata": {
  "kernelspec": {
   "display_name": "Python 3",
   "language": "python",
   "name": "python3"
  },
  "language_info": {
   "codemirror_mode": {
    "name": "ipython",
    "version": 3
   },
   "file_extension": ".py",
   "mimetype": "text/x-python",
   "name": "python",
   "nbconvert_exporter": "python",
   "pygments_lexer": "ipython3",
   "version": "3.12.1"
  }
 },
 "nbformat": 4,
 "nbformat_minor": 2
}
