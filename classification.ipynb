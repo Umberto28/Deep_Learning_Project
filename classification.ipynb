{
  "nbformat": 4,
  "nbformat_minor": 0,
  "metadata": {
    "colab": {
      "provenance": [],
      "mount_file_id": "1DqRQy64ElLMebQjue9u_TGFNd5IsUQ6J",
      "authorship_tag": "ABX9TyN5FJV2+S/gu8eNicdgbIG1",
      "include_colab_link": true
    },
    "kernelspec": {
      "name": "python3",
      "display_name": "Python 3"
    },
    "language_info": {
      "name": "python"
    }
  },
  "cells": [
    {
      "cell_type": "markdown",
      "metadata": {
        "id": "view-in-github",
        "colab_type": "text"
      },
      "source": [
        "<a href=\"https://colab.research.google.com/github/Umberto28/Deep_Learning_Project/blob/main/classification.ipynb\" target=\"_parent\"><img src=\"https://colab.research.google.com/assets/colab-badge.svg\" alt=\"Open In Colab\"/></a>"
      ]
    },
    {
      "cell_type": "code",
      "source": [
        "import pandas as pd\n",
        "import numpy as np\n",
        "from sklearn.model_selection import train_test_split\n",
        "from sklearn.ensemble import RandomForestClassifier"
      ],
      "metadata": {
        "id": "jsVFCeLglZ8c"
      },
      "execution_count": 4,
      "outputs": []
    },
    {
      "cell_type": "code",
      "source": [
        "def randomForestMean(estimator, x, y):\n",
        "  total_acc=0\n",
        "  for i in range(100):\n",
        "    X_train, X_test, y_train, y_test = train_test_split(x, y, test_size = 20, random_state=42)\n",
        "    rnd_forest = RandomForestClassifier(n_estimators= estimator)\n",
        "    rnd_forest.fit(X_train, y_train)\n",
        "    total_acc += rnd_forest.score(X_test,y_test)\n",
        "  return total_acc/100"
      ],
      "metadata": {
        "id": "6ieI5ZXYNn_-"
      },
      "execution_count": 62,
      "outputs": []
    },
    {
      "cell_type": "markdown",
      "source": [
        "random forest of xception"
      ],
      "metadata": {
        "id": "xWZlwF-eVjKk"
      }
    },
    {
      "cell_type": "code",
      "source": [
        "df=pd.read_csv('/content/xceptionFeatures.csv')\n",
        "df.drop([\"Unnamed: 0\"], axis=1, inplace=True)\n",
        "Y=df[\"diag\"]\n",
        "df.drop([\"diag\"], axis=1, inplace=True)\n",
        "Xxception=df"
      ],
      "metadata": {
        "id": "0FP93mvOo0yX"
      },
      "execution_count": 59,
      "outputs": []
    },
    {
      "cell_type": "code",
      "source": [
        "print(\"Test accuracy of random forest classifier with n_estimators = 10 : {:.2f}\".format(randomForestMean(10,Xxception,Y)))\n",
        "print(\"Test accuracy of random forest classifier with n_estimators = 100 : {:.2f}\".format(randomForestMean(100,Xxception,Y)))\n",
        "print(\"Test accuracy of random forest classifier with n_estimators = 1000 : {:.2f}\".format(randomForestMean(1000,Xxception,Y)))"
      ],
      "metadata": {
        "colab": {
          "base_uri": "https://localhost:8080/"
        },
        "id": "FIHrlUOPlfbW",
        "outputId": "d86d60e6-a4fa-43b7-bf31-1f42e4221361"
      },
      "execution_count": 63,
      "outputs": [
        {
          "output_type": "stream",
          "name": "stdout",
          "text": [
            "Test accuracy of random forest classifier with n_estimators = 10 : 0.75\n",
            "Test accuracy of random forest classifier with n_estimators = 100 : 0.80\n",
            "Test accuracy of random forest classifier with n_estimators = 1000 : 0.82\n"
          ]
        }
      ]
    },
    {
      "cell_type": "markdown",
      "source": [
        "random forest of efficientNet"
      ],
      "metadata": {
        "id": "_4msiyKWV6vQ"
      }
    },
    {
      "cell_type": "code",
      "source": [
        "df=pd.read_csv('/content/EfficientNetB4Features.csv')\n",
        "df.drop([\"Unnamed: 0\"], axis=1, inplace=True)\n",
        "Y=df[\"diag\"]\n",
        "df.drop([\"diag\"], axis=1, inplace=True)\n",
        "Xefficent=df"
      ],
      "metadata": {
        "id": "wFaD3_bzV3Xf"
      },
      "execution_count": 65,
      "outputs": []
    },
    {
      "cell_type": "code",
      "execution_count": null,
      "metadata": {
        "colab": {
          "base_uri": "https://localhost:8080/"
        },
        "id": "CrYTSrneXdh7",
        "outputId": "452f9d6e-c66e-4ab4-b662-c9296a9efbe0"
      },
      "outputs": [
        {
          "output_type": "stream",
          "name": "stdout",
          "text": [
            "Test accuracy of random forest classifier with n_estimators = 10 : 0.70\n",
            "Test accuracy of random forest classifier with n_estimators = 100 : 0.70\n"
          ]
        }
      ],
      "source": [
        "print(\"Test accuracy of random forest classifier with n_estimators = 10 : {:.2f}\".format(randomForestMean(10,Xefficent,Y)))\n",
        "print(\"Test accuracy of random forest classifier with n_estimators = 100 : {:.2f}\".format(randomForestMean(100,Xefficent,Y)))\n",
        "print(\"Test accuracy of random forest classifier with n_estimators = 1000 : {:.2f}\".format(randomForestMean(1000,Xefficent,Y)))"
      ]
    }
  ]
}