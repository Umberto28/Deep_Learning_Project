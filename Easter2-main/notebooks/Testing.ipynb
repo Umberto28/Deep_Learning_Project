{
 "cells": [
  {
   "cell_type": "code",
   "execution_count": 1,
   "id": "77c7178c-11ab-49c7-a06d-1155d1ea0930",
   "metadata": {},
   "outputs": [],
   "source": [
    "import os\n",
    "os.chdir(\"../src\")\n",
    "from predict import test_on_iam"
   ]
  },
  {
   "cell_type": "code",
   "execution_count": 5,
   "id": "13288874-b00c-4656-9edf-917c33c574e0",
   "metadata": {},
   "outputs": [],
   "source": [
    "checkpoint_path = \"weights/EASTER2--100--8.32.keras\""
   ]
  },
  {
   "cell_type": "markdown",
   "id": "334f0bb1-ab8e-4d16-b57f-4d7b620bde60",
   "metadata": {},
   "source": [
    "## Check CER on validation set"
   ]
  },
  {
   "cell_type": "code",
   "execution_count": 7,
   "id": "513687b1-8482-4674-9ca3-d6815735b67e",
   "metadata": {},
   "outputs": [
    {
     "name": "stdout",
     "output_type": "stream",
     "text": [
      "loading metdata...\n"
     ]
    },
    {
     "ename": "FileNotFoundError",
     "evalue": "[Errno 2] No such file or directory: 'IAM/sentences.txt'",
     "output_type": "error",
     "traceback": [
      "\u001b[1;31m---------------------------------------------------------------------------\u001b[0m",
      "\u001b[1;31mFileNotFoundError\u001b[0m                         Traceback (most recent call last)",
      "Cell \u001b[1;32mIn[7], line 1\u001b[0m\n\u001b[1;32m----> 1\u001b[0m \u001b[43mtest_on_iam\u001b[49m\u001b[43m(\u001b[49m\u001b[43mshow\u001b[49m\u001b[38;5;241;43m=\u001b[39;49m\u001b[38;5;28;43;01mFalse\u001b[39;49;00m\u001b[43m,\u001b[49m\u001b[43m \u001b[49m\u001b[43mpartition\u001b[49m\u001b[38;5;241;43m=\u001b[39;49m\u001b[38;5;124;43m\"\u001b[39;49m\u001b[38;5;124;43mvalidation\u001b[39;49m\u001b[38;5;124;43m\"\u001b[39;49m\u001b[43m,\u001b[49m\u001b[43m \u001b[49m\u001b[43mcheckpoint\u001b[49m\u001b[38;5;241;43m=\u001b[39;49m\u001b[43mcheckpoint_path\u001b[49m\u001b[43m,\u001b[49m\u001b[43m \u001b[49m\u001b[43muncased\u001b[49m\u001b[38;5;241;43m=\u001b[39;49m\u001b[38;5;28;43;01mTrue\u001b[39;49;00m\u001b[43m)\u001b[49m\n",
      "File \u001b[1;32mc:\\Users\\renzi\\OneDrive\\Desktop\\Easter2-main\\src\\predict.py:59\u001b[0m, in \u001b[0;36mtest_on_iam\u001b[1;34m(show, partition, uncased, checkpoint)\u001b[0m\n\u001b[0;32m     56\u001b[0m \u001b[38;5;28;01mdef\u001b[39;00m \u001b[38;5;21mtest_on_iam\u001b[39m(show \u001b[38;5;241m=\u001b[39m \u001b[38;5;28;01mTrue\u001b[39;00m, partition\u001b[38;5;241m=\u001b[39m\u001b[38;5;124m'\u001b[39m\u001b[38;5;124mtest\u001b[39m\u001b[38;5;124m'\u001b[39m, uncased\u001b[38;5;241m=\u001b[39m\u001b[38;5;28;01mFalse\u001b[39;00m, checkpoint\u001b[38;5;241m=\u001b[39m\u001b[38;5;124m\"\u001b[39m\u001b[38;5;124mEmpty\u001b[39m\u001b[38;5;124m\"\u001b[39m):\n\u001b[0;32m     58\u001b[0m     \u001b[38;5;28mprint\u001b[39m (\u001b[38;5;124m\"\u001b[39m\u001b[38;5;124mloading metdata...\u001b[39m\u001b[38;5;124m\"\u001b[39m)\n\u001b[1;32m---> 59\u001b[0m     training_data \u001b[38;5;241m=\u001b[39m \u001b[43mdata_loader\u001b[49m\u001b[43m(\u001b[49m\u001b[43mconfig\u001b[49m\u001b[38;5;241;43m.\u001b[39;49m\u001b[43mDATA_PATH\u001b[49m\u001b[43m,\u001b[49m\u001b[43m \u001b[49m\u001b[43mconfig\u001b[49m\u001b[38;5;241;43m.\u001b[39;49m\u001b[43mBATCH_SIZE\u001b[49m\u001b[43m)\u001b[49m\n\u001b[0;32m     60\u001b[0m     validation_data \u001b[38;5;241m=\u001b[39m data_loader(config\u001b[38;5;241m.\u001b[39mDATA_PATH, config\u001b[38;5;241m.\u001b[39mBATCH_SIZE)\n\u001b[0;32m     61\u001b[0m     test_data \u001b[38;5;241m=\u001b[39m data_loader(config\u001b[38;5;241m.\u001b[39mDATA_PATH, config\u001b[38;5;241m.\u001b[39mBATCH_SIZE)\n",
      "File \u001b[1;32mc:\\Users\\renzi\\OneDrive\\Desktop\\Easter2-main\\src\\data_loader.py:33\u001b[0m, in \u001b[0;36mdata_loader.__init__\u001b[1;34m(self, path, batch_size)\u001b[0m\n\u001b[0;32m     23\u001b[0m \u001b[38;5;66;03m# creating taco object for augmentation (checkout Easter2.0 paper)\u001b[39;00m\n\u001b[0;32m     24\u001b[0m \u001b[38;5;28mself\u001b[39m\u001b[38;5;241m.\u001b[39mmytaco \u001b[38;5;241m=\u001b[39m Taco(\n\u001b[0;32m     25\u001b[0m     cp_vertical\u001b[38;5;241m=\u001b[39m\u001b[38;5;241m0.2\u001b[39m,\n\u001b[0;32m     26\u001b[0m     cp_horizontal\u001b[38;5;241m=\u001b[39m\u001b[38;5;241m0.25\u001b[39m,\n\u001b[1;32m   (...)\u001b[0m\n\u001b[0;32m     30\u001b[0m     min_tw_horizontal\u001b[38;5;241m=\u001b[39m\u001b[38;5;241m10\u001b[39m\n\u001b[0;32m     31\u001b[0m )\n\u001b[1;32m---> 33\u001b[0m f \u001b[38;5;241m=\u001b[39m \u001b[38;5;28;43mopen\u001b[39;49m\u001b[43m(\u001b[49m\u001b[43mpath\u001b[49m\u001b[43m \u001b[49m\u001b[38;5;241;43m+\u001b[39;49m\u001b[43m \u001b[49m\u001b[38;5;124;43m'\u001b[39;49m\u001b[38;5;124;43msentences.txt\u001b[39;49m\u001b[38;5;124;43m'\u001b[39;49m\u001b[43m)\u001b[49m\n\u001b[0;32m     34\u001b[0m chars \u001b[38;5;241m=\u001b[39m \u001b[38;5;28mset\u001b[39m()\n\u001b[0;32m     35\u001b[0m \u001b[38;5;28;01mfor\u001b[39;00m line \u001b[38;5;129;01min\u001b[39;00m f:\n",
      "\u001b[1;31mFileNotFoundError\u001b[0m: [Errno 2] No such file or directory: 'IAM/sentences.txt'"
     ]
    }
   ],
   "source": [
    "test_on_iam(show=False, partition=\"validation\", checkpoint=checkpoint_path, uncased=True)"
   ]
  },
  {
   "cell_type": "markdown",
   "id": "7d532c9f-a402-4e97-aeb4-b0909e88e685",
   "metadata": {},
   "source": [
    "## Check CER on Test Set"
   ]
  },
  {
   "cell_type": "code",
   "execution_count": 4,
   "id": "559f349c-bde9-4be6-b912-23332b464b46",
   "metadata": {},
   "outputs": [
    {
     "name": "stdout",
     "output_type": "stream",
     "text": [
      "loading metdata...\n",
      "loading checkpoint...\n",
      "calculating results...\n",
      "Using Test Partition\n",
      "Number of Samples :  2915\n"
     ]
    },
    {
     "name": "stderr",
     "output_type": "stream",
     "text": [
      "100%|██████████| 2915/2915 [02:08<00:00, 22.74it/s]"
     ]
    },
    {
     "name": "stdout",
     "output_type": "stream",
     "text": [
      "Character error rate is :  7.70544392486075\n"
     ]
    },
    {
     "name": "stderr",
     "output_type": "stream",
     "text": [
      "\n"
     ]
    }
   ],
   "source": [
    "test_on_iam(show=False, partition=\"test\", checkpoint=checkpoint_path, uncased=True)"
   ]
  },
  {
   "cell_type": "code",
   "execution_count": null,
   "id": "06f36502-1cf3-4e88-9f5c-b546fd6812f6",
   "metadata": {},
   "outputs": [],
   "source": []
  },
  {
   "cell_type": "code",
   "execution_count": null,
   "id": "40e28a2d-e5b0-4770-81c5-95ae649eb874",
   "metadata": {},
   "outputs": [],
   "source": []
  },
  {
   "cell_type": "code",
   "execution_count": null,
   "id": "0126ee3b-47a3-43d2-a1b8-a2efdf91532c",
   "metadata": {},
   "outputs": [],
   "source": []
  }
 ],
 "metadata": {
  "environment": {
   "kernel": "python3",
   "name": "tf2-gpu.2-8.m91",
   "type": "gcloud",
   "uri": "gcr.io/deeplearning-platform-release/tf2-gpu.2-8:m91"
  },
  "kernelspec": {
   "display_name": "Python 3",
   "language": "python",
   "name": "python3"
  },
  "language_info": {
   "codemirror_mode": {
    "name": "ipython",
    "version": 3
   },
   "file_extension": ".py",
   "mimetype": "text/x-python",
   "name": "python",
   "nbconvert_exporter": "python",
   "pygments_lexer": "ipython3",
   "version": "3.12.4"
  }
 },
 "nbformat": 4,
 "nbformat_minor": 5
}
