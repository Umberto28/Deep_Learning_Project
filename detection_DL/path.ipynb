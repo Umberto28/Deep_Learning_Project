{
 "cells": [
  {
   "cell_type": "code",
   "execution_count": null,
   "metadata": {},
   "outputs": [],
   "source": [
    "from pathlib import Path\n",
    "\n",
    "#! change here\n",
    "BASE = Path('')\n",
    "\n",
    "#? ML\n",
    "DEVICE = 'cpu'\n",
    "CHECKPOINTS = 'checkpoints'\n",
    "\n",
    "#? IAM dataset\n",
    "IAM = Path('IAM')\n",
    "XML = IAM / 'xml'\n",
    "SETS = IAM / 'SETS'\n",
    "DATA = IAM / 'DATA'\n",
    "\n",
    "#? Dysgraphia dataset\n",
    "DYSG = BASE / 'data'\n",
    "CSVS = DYSG / 'csv'"
   ]
  }
 ],
 "metadata": {
  "kernelspec": {
   "display_name": "Python 3",
   "language": "python",
   "name": "python3"
  },
  "language_info": {
   "name": "python",
   "version": "3.12.1"
  }
 },
 "nbformat": 4,
 "nbformat_minor": 2
}
